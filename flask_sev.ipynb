{
 "cells": [
  {
   "cell_type": "code",
   "execution_count": null,
   "metadata": {},
   "outputs": [
    {
     "name": "stdout",
     "output_type": "stream",
     "text": [
      " * Serving Flask app \"__main__\" (lazy loading)\n",
      " * Environment: production\n",
      "   WARNING: This is a development server. Do not use it in a production deployment.\n",
      "   Use a production WSGI server instead.\n",
      " * Debug mode: off\n"
     ]
    },
    {
     "name": "stderr",
     "output_type": "stream",
     "text": [
      " * Running on http://172.30.1.2:8000/ (Press CTRL+C to quit)\n"
     ]
    }
   ],
   "source": [
    "from flask import Flask, request, jsonify\n",
    "import os\n",
    "from werkzeug.utils import secure_filename\n",
    "from PIL import Image\n",
    "from pytesseract import *\n",
    "import detectPILL, tesser, color\n",
    "\n",
    "app = Flask(__name__)\n",
    "    \n",
    "@app.route('/image', methods=['POST'])\n",
    "def image():\n",
    "    f = request.files['file']\n",
    "    f.save(secure_filename(f.filename))\n",
    "    image = Image.open(f.filename)\n",
    "    \n",
    "    a=tesser.test3(f.filename)\n",
    "    b=color.color(f.filename, a)\n",
    "    c=detectPILL.detect()\n",
    "    return c\n",
    "\n",
    "if __name__ == \"__main__\":\n",
    "\t\tapp.run(host='172.30.1.2', port=8000)"
   ]
  },
  {
   "cell_type": "code",
   "execution_count": null,
   "metadata": {},
   "outputs": [],
   "source": []
  },
  {
   "cell_type": "code",
   "execution_count": null,
   "metadata": {},
   "outputs": [],
   "source": []
  }
 ],
 "metadata": {
  "kernelspec": {
   "display_name": "Python 3",
   "language": "python",
   "name": "python3"
  },
  "language_info": {
   "codemirror_mode": {
    "name": "ipython",
    "version": 3
   },
   "file_extension": ".py",
   "mimetype": "text/x-python",
   "name": "python",
   "nbconvert_exporter": "python",
   "pygments_lexer": "ipython3",
   "version": "3.8.5"
  }
 },
 "nbformat": 4,
 "nbformat_minor": 4
}
